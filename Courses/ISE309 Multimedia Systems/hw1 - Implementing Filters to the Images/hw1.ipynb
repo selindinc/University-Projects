{
 "cells": [
  {
   "cell_type": "code",
   "execution_count": 1,
   "metadata": {},
   "outputs": [],
   "source": [
    "import cv2\n",
    "import numpy as np\n",
    "import matplotlib.pyplot as plt\n",
    "import glob\n",
    "import os\n",
    "import statistics\n",
    "import time"
   ]
  },
  {
   "cell_type": "code",
   "execution_count": 2,
   "metadata": {},
   "outputs": [
    {
     "data": {
      "text/plain": [
       "['sample_images/einstein.jpg',\n",
       " 'sample_images/salt_pepper.jpg',\n",
       " 'sample_images/Baboon.bmp',\n",
       " 'sample_images/Lena.bmp',\n",
       " 'sample_images/Cameraman.bmp']"
      ]
     },
     "execution_count": 2,
     "metadata": {},
     "output_type": "execute_result"
    }
   ],
   "source": [
    "img_dir = \"sample_images\" # Enter Directory of all images \n",
    "data_path = os.path.join(img_dir,'*')\n",
    "img_files = glob.glob(data_path)\n",
    "img_files"
   ]
  },
  {
   "cell_type": "code",
   "execution_count": 3,
   "metadata": {},
   "outputs": [],
   "source": [
    "#read & pad images and put them in seperate lists\n",
    "img_list=[]\n",
    "padded_list3=[]\n",
    "padded_list5=[]\n",
    "padded_list7=[]\n",
    "padded_list11=[]\n",
    "for s in img_files:\n",
    "    img = cv2.imread(s,cv2.IMREAD_GRAYSCALE)\n",
    "    #pad_width=(kernel-1)/2\n",
    "    img3 = np.pad(img, pad_width=1, mode='constant', constant_values=0)\n",
    "    img5 = np.pad(img, pad_width=2, mode='constant', constant_values=0)\n",
    "    img7 = np.pad(img, pad_width=3, mode='constant', constant_values=0)\n",
    "    img11 = np.pad(img, pad_width=5, mode='constant', constant_values=0)\n",
    "    \n",
    "    img_list.append(img)\n",
    "    padded_list3.append(img3)\n",
    "    padded_list5.append(img5)\n",
    "    padded_list7.append(img7)\n",
    "    padded_list11.append(img11)\n",
    "    "
   ]
  },
  {
   "cell_type": "code",
   "execution_count": 4,
   "metadata": {},
   "outputs": [],
   "source": [
    "#creating kernels\n",
    "#Mean Kernels\n",
    "kernel3x3=np.ones((3,3),np.float32)/9\n",
    "kernel5x5=np.ones((5,5),np.float32)/25\n",
    "kernel7x7=np.ones((7,7),np.float32)/49\n",
    "kernel11x11=np.ones((11,11),np.float32)/121\n",
    "#Kernel for shift 2 pixels up\n",
    "shiftUp2Ker=np.zeros((5,5),np.float32)\n",
    "shiftUp2Ker[4][2]=1\n",
    "#Kernel for shift 3 pixels right\n",
    "shiftRight3Ker=np.zeros((7,7),np.float32)\n",
    "shiftRight3Ker[3][0]=1\n",
    "#Kernel for sharpening\n",
    "double_identical=np.zeros((3,3),np.float32)\n",
    "double_identical[1][1]=2\n",
    "sharp_kernel=double_identical-kernel3x3\n",
    "#list for median filter\n",
    "klist=[]"
   ]
  },
  {
   "cell_type": "code",
   "execution_count": 5,
   "metadata": {},
   "outputs": [],
   "source": [
    "#create new images \n",
    "new_imgs=[]\n",
    "npadded_list3=[]\n",
    "npadded_list5=[]\n",
    "npadded_list7=[]\n",
    "npadded_list11=[]\n",
    "for i in range(len(img_list)):\n",
    "    row=img_list[i].shape[0]\n",
    "    col=img_list[i].shape[1]\n",
    "    new_imgs.append(np.zeros((row,col),np.uint8))\n",
    "    \n",
    "#Add pad to newly created images and put them in a list\n",
    "for s in range(len(img_list)):\n",
    "    nimg=new_imgs[s]\n",
    "    \n",
    "    nimg3 = np.pad(nimg, pad_width=1, mode='constant', constant_values=0)\n",
    "    nimg5 = np.pad(nimg, pad_width=2, mode='constant', constant_values=0)\n",
    "    nimg7 = np.pad(nimg, pad_width=3, mode='constant', constant_values=0)\n",
    "    nimg11 = np.pad(nimg, pad_width=5, mode='constant', constant_values=0)\n",
    "    \n",
    "\n",
    "    npadded_list3.append(nimg3)\n",
    "    npadded_list5.append(nimg5)\n",
    "    npadded_list7.append(nimg7)\n",
    "    npadded_list11.append(nimg11)"
   ]
  },
  {
   "cell_type": "code",
   "execution_count": 6,
   "metadata": {},
   "outputs": [],
   "source": [
    "\n",
    "\n",
    "def OperationFunc(kernel_size,img_num,flagShiftUp,flagShiftRight,flagSharp,flagMedian):\n",
    "    imagerow=new_imgs[img_num].shape[0] \n",
    "    imagecol=new_imgs[img_num].shape[1]\n",
    "    #Apply filters by iterating through images\n",
    "    for s in range(imagerow):\n",
    "        for d in range(imagecol):\n",
    "            sum=0\n",
    "            for i in range(kernel_size):\n",
    "                for j in range(kernel_size):\n",
    "                    if flagShiftUp==True: #Apply shift up filter\n",
    "                        ker_indx=shiftUp2Ker[i][j] #find kernel index  \n",
    "                        nimg=padded_list5[img_num] #find image to apply\n",
    "                        img_indx=nimg[s+i][d+j] #find image index\n",
    "                        mult=ker_indx*img_indx #multiply kernel index and image index\n",
    "                        \n",
    "                        sum=sum+mult #the value that we're going to write in the middle\n",
    "                        img=npadded_list5[img_num] #\n",
    "                        img[s+int((kernel_size-1)/2)][d+int((kernel_size-1)/2)]=sum\n",
    "                        npadded_list5[img_num]=img #write the calculated value to the right place in the image\n",
    "#the logic after this part is same   \n",
    "                    elif flagShiftRight==True: #Apply shift right filter\n",
    "                        ker_indx=shiftRight3Ker[i][j]\n",
    "                        nimg=padded_list7[img_num]\n",
    "                        img_indx=nimg[s+i][d+j]\n",
    "                        mult=ker_indx*img_indx\n",
    "                        \n",
    "                        sum=sum+mult\n",
    "                        img=npadded_list7[img_num]\n",
    "                        img[s+int((kernel_size-1)/2)][d+int((kernel_size-1)/2)]=sum\n",
    "                        npadded_list7[img_num]=img\n",
    "                        \n",
    "                    elif flagSharp==True: #apply sharpening filter\n",
    "                        ker_indx=sharp_kernel[i][j]\n",
    "                        nimg=padded_list3[img_num]\n",
    "                        img_indx=nimg[s+i][d+j]\n",
    "                        mult=ker_indx*img_indx\n",
    "                        \n",
    "                        sum=sum+mult\n",
    "                        img=npadded_list3[img_num]\n",
    "                        img[s+int((kernel_size-1)/2)][d+int((kernel_size-1)/2)]=sum\n",
    "                        npadded_list3[img_num]=img\n",
    "                        \n",
    "                    elif flagMedian==True: #apply median filter\n",
    "                        nimg=padded_list3[img_num]\n",
    "                        klist.append(nimg[s+i][d+j]) \n",
    "                    else: #appy mean filter\n",
    "                        if kernel_size==3:\n",
    "                            ker_indx=kernel3x3[i][j]\n",
    "                            nimg=padded_list3[img_num]\n",
    "                            img_indx=nimg[s+i][d+j]\n",
    "                            mult=ker_indx*img_indx\n",
    "                            #\n",
    "                            sum=sum+mult\n",
    "                            img=npadded_list3[img_num]\n",
    "                            img[s+int((kernel_size-1)/2)][d+int((kernel_size-1)/2)]=sum\n",
    "                            npadded_list3[img_num]=img\n",
    "                            \n",
    "                        elif kernel_size==5:\n",
    "                            ker_indx=kernel5x5[i][j]\n",
    "                            nimg=padded_list5[img_num]\n",
    "                            img_indx=nimg[s+i][d+j]\n",
    "                            mult=ker_indx*img_indx\n",
    "                            \n",
    "                            sum=sum+mult\n",
    "                            img=npadded_list5[img_num]\n",
    "                            img[s+int((kernel_size-1)/2)][d+int((kernel_size-1)/2)]=sum\n",
    "                            npadded_list5[img_num]=img\n",
    "                            \n",
    "                        elif kernel_size==7:\n",
    "                            ker_indx=kernel7x7[i][j]\n",
    "                            nimg=padded_list7[img_num]\n",
    "                            img_indx=nimg[s+i][d+j]\n",
    "                            mult=ker_indx*img_indx\n",
    "                            \n",
    "                            sum=sum+mult\n",
    "                            img=npadded_list7[img_num]\n",
    "                            img[s+int((kernel_size-1)/2)][d+int((kernel_size-1)/2)]=sum\n",
    "                            npadded_list7[img_num]=img\n",
    "                            \n",
    "                        elif kernel_size==11:\n",
    "                            ker_indx=kernel11x11[i][j]\n",
    "                            nimg=padded_list11[img_num]\n",
    "                            img_indx=nimg[s+i][d+j]\n",
    "                            mult=ker_indx*img_indx\n",
    "                            \n",
    "                            sum=sum+mult\n",
    "                            img=npadded_list11[img_num]\n",
    "                            img[s+int((kernel_size-1)/2)][d+int((kernel_size-1)/2)]=sum\n",
    "                            npadded_list11[img_num]=img\n",
    "                if flagMedian==True: #median filter continues\n",
    "                    a=statistics.median(klist)#find median \n",
    "                    klist.clear()\n",
    "                    img=npadded_list3[img_num]\n",
    "                    img[s+int((kernel_size-1)/2)][d+int((kernel_size-1)/2)]=a\n",
    "                    npadded_list3[img_num]=img\n",
    "            "
   ]
  },
  {
   "cell_type": "code",
   "execution_count": null,
   "metadata": {},
   "outputs": [],
   "source": [
    "#1 apply mean filter to images\n",
    "#filter3x3\n",
    "blur3=[]\n",
    "for i in range(len(img_list)):\n",
    "   \n",
    "    OperationFunc(3,i,False,False,False,False)#\n",
    "    blur3.append(npadded_list3[i])\n",
    "    cv2.imshow(\"3x3Blur Original-Blur\",np.hstack((padded_list3[i],blur3[i])))\n",
    "    cv2.waitKey(0)\n",
    "    cv2.destroyAllWindows()"
   ]
  },
  {
   "cell_type": "code",
   "execution_count": 11,
   "metadata": {},
   "outputs": [],
   "source": [
    "#filter5x5\n",
    "blur5=[]\n",
    "for i in range(len(img_list)):\n",
    "    \n",
    "    filt5=OperationFunc(5,i,False,False,False,False)\n",
    "    blur5.append(npadded_list5[i])\n",
    "    cv2.imshow(\"5x5Blur Original-Blur\",np.hstack((padded_list5[i],blur5[i])))\n",
    "    cv2.waitKey(0)\n",
    "    cv2.destroyAllWindows()\n",
    "    "
   ]
  },
  {
   "cell_type": "code",
   "execution_count": 13,
   "metadata": {},
   "outputs": [],
   "source": [
    "#filter7x7\n",
    "blur7=[]\n",
    "for i in range(len(img_list)):\n",
    "\n",
    "    filt7=OperationFunc(7,i,False,False,False,False)\n",
    "    blur7.append(npadded_list7[i])\n",
    "    cv2.imshow(\"7x7Blur Original-Blur\",np.hstack((padded_list7[i],blur7[i])))\n",
    "    cv2.waitKey(0)\n",
    "    cv2.destroyAllWindows()\n",
    "   "
   ]
  },
  {
   "cell_type": "code",
   "execution_count": 16,
   "metadata": {},
   "outputs": [],
   "source": [
    "#filter11x11\n",
    "blur11=[]\n",
    "for i in range(len(img_list)):\n",
    "\n",
    "    filt11=OperationFunc(11,i,False,False,False,False)\n",
    "    blur11.append(npadded_list11[i])\n",
    "    cv2.imshow(\"11x11Blur Original-Blur\",np.hstack((padded_list11[i],blur11[i])))\n",
    "    cv2.waitKey()\n",
    "    cv2.destroyAllWindows()"
   ]
  },
  {
   "cell_type": "code",
   "execution_count": 10,
   "metadata": {},
   "outputs": [],
   "source": [
    "#2 Subtract the blurred images obtained in question (1) from the original images\n",
    "#3x3\n",
    "sub3=[]\n",
    "for i in range(len(img_list)):\n",
    "    sub3.append(padded_list3[i]-blur3[i])\n",
    "    cv2.imshow(\"3x3Sub Original-Subtracted\",np.hstack((padded_list3[i],sub3[i])))\n",
    "    cv2.waitKey(0)\n",
    "    cv2.destroyAllWindows()"
   ]
  },
  {
   "cell_type": "code",
   "execution_count": 12,
   "metadata": {},
   "outputs": [],
   "source": [
    "#5x5\n",
    "sub5=[]\n",
    "for i in range(len(img_list)):\n",
    "    sub5.append(padded_list5[i]-blur5[i])\n",
    "    cv2.imshow(\"5x5Sub Original-Subtracted\",np.hstack((padded_list5[i],sub5[i])))\n",
    "    cv2.waitKey(0)\n",
    "    cv2.destroyAllWindows()\n"
   ]
  },
  {
   "cell_type": "code",
   "execution_count": 15,
   "metadata": {},
   "outputs": [],
   "source": [
    "#7x7\n",
    "sub7=[]\n",
    "for i in range(len(img_list)):\n",
    "    sub7.append(padded_list7[i]-blur7[i])\n",
    "    cv2.imshow(\"7x7Sub Original-Subtracted\",np.hstack((padded_list7[i],sub7[i])))\n",
    "    cv2.waitKey(0)\n",
    "    cv2.destroyAllWindows()\n"
   ]
  },
  {
   "cell_type": "code",
   "execution_count": 18,
   "metadata": {},
   "outputs": [],
   "source": [
    "#11x11\n",
    "sub11=[]\n",
    "for i in range(len(img_list)):\n",
    "    sub11.append(padded_list11[i]-blur11[i])\n",
    "    cv2.imshow(\"11x11Sub Original-Subtracted\",np.hstack((padded_list11[i],sub11[i])))\n",
    "    cv2.waitKey(0)\n",
    "    cv2.destroyAllWindows()"
   ]
  },
  {
   "cell_type": "code",
   "execution_count": 22,
   "metadata": {},
   "outputs": [],
   "source": [
    "#3 shift images 2 pixels up\n",
    "shiftUp=[]\n",
    "for i in range(len(img_list)):\n",
    "    OperationFunc(5,i,True,False,False,False)\n",
    "    shiftUp.append(npadded_list5[i])\n",
    "    cv2.imshow(\"shiftUp\",shiftUp[i])\n",
    "    cv2.waitKey(0)\n",
    "    cv2.destroyAllWindows()\n",
    "   "
   ]
  },
  {
   "cell_type": "code",
   "execution_count": 23,
   "metadata": {},
   "outputs": [],
   "source": [
    "#3 shift images 3 pixels right\n",
    "shiftRight=[]\n",
    "for i in range(len(img_list)):\n",
    "    OperationFunc(7,i,False,True,False,False)\n",
    "    shiftRight.append(npadded_list7[i])\n",
    "    cv2.imshow(\"shiftRight\",shiftRight[i])\n",
    "    cv2.waitKey(0)\n",
    "    cv2.destroyAllWindows()"
   ]
  },
  {
   "cell_type": "code",
   "execution_count": 24,
   "metadata": {},
   "outputs": [],
   "source": [
    "#4 Sharp image using mask method. You should sum up the original image and mask version.\n",
    "sharp=[]\n",
    "for i in range(len(img_list)):\n",
    "    OperationFunc(3,i,False,False,True,False)\n",
    "    sharp.append(npadded_list3[i])\n",
    "    cv2.imshow(\"sharp Original-Sharp\",np.hstack((padded_list3[i],sharp[i])))\n",
    "    cv2.waitKey(0)\n",
    "    cv2.destroyAllWindows()"
   ]
  },
  {
   "cell_type": "code",
   "execution_count": 26,
   "metadata": {},
   "outputs": [
    {
     "data": {
      "text/plain": [
       "13"
      ]
     },
     "execution_count": 26,
     "metadata": {},
     "output_type": "execute_result"
    }
   ],
   "source": [
    "#5 Remove salt and pepper noise by using median filter for salt and pepper image\n",
    "\n",
    "OperationFunc(3,1,False,False,False,True)\n",
    "cv2.imshow(\"SaltAndPepper Original-Filtred\",np.hstack((padded_list3[1],npadded_list3[1])))\n",
    "cv2.waitKey(0)\n",
    "cv2.destroyAllWindows()\n"
   ]
  }
 ],
 "metadata": {
  "kernelspec": {
   "display_name": "Python 3",
   "language": "python",
   "name": "python3"
  },
  "language_info": {
   "codemirror_mode": {
    "name": "ipython",
    "version": 3
   },
   "file_extension": ".py",
   "mimetype": "text/x-python",
   "name": "python",
   "nbconvert_exporter": "python",
   "pygments_lexer": "ipython3",
   "version": "3.7.1"
  }
 },
 "nbformat": 4,
 "nbformat_minor": 2
}
