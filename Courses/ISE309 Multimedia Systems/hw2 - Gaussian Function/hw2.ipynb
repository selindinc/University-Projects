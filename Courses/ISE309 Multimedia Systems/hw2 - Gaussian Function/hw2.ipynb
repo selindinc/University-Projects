{
 "cells": [
  {
   "cell_type": "code",
   "execution_count": 1,
   "metadata": {},
   "outputs": [],
   "source": [
    "import cv2\n",
    "import numpy as np\n",
    "import matplotlib.pyplot as plt\n",
    "import glob\n",
    "import os\n",
    "import statistics\n",
    "import time\n",
    "from math import exp\n",
    "import math "
   ]
  },
  {
   "cell_type": "code",
   "execution_count": 2,
   "metadata": {},
   "outputs": [
    {
     "data": {
      "text/plain": [
       "['sample_images1/einstein.jpg',\n",
       " 'sample_images1/Baboon.bmp',\n",
       " 'sample_images1/ben.png',\n",
       " 'sample_images1/Lena.bmp']"
      ]
     },
     "execution_count": 2,
     "metadata": {},
     "output_type": "execute_result"
    }
   ],
   "source": [
    "img_dir = \"sample_images1\" # Enter Directory of all images from sample_images1\n",
    "data_path = os.path.join(img_dir,'*')\n",
    "img_files = glob.glob(data_path)\n",
    "img_files"
   ]
  },
  {
   "cell_type": "code",
   "execution_count": 3,
   "metadata": {},
   "outputs": [],
   "source": [
    "def OneDimGauss(x_val,mean_val,variance_val): #1-Dimensional Gauss Function\n",
    "    return np.exp(-np.power(x_val - mean_val, 2.) / (2*variance_val))/math.sqrt(2*math.pi*variance_val)"
   ]
  },
  {
   "cell_type": "code",
   "execution_count": 4,
   "metadata": {},
   "outputs": [
    {
     "data": {
      "image/png": "[encoded data removed]",
      "text/plain": [
       "<Figure size 432x288 with 1 Axes>"
      ]
     },
     "metadata": {
      "needs_background": "light"
     },
     "output_type": "display_data"
    }
   ],
   "source": [
    "x_val=np.linspace(-100, 100) #Show results with the plot\n",
    "for mean_val,variance_val in [(0,0.2),(0,1.0),(0,5.0)]:\n",
    "    plt.plot(x_val, OneDimGauss(x_val, mean_val, variance_val))\n",
    "plt.show()"
   ]
  },
  {
   "cell_type": "code",
   "execution_count": null,
   "metadata": {},
   "outputs": [],
   "source": [
    "#Create 3x3,5x5,7x7 Gaussian Kernels\n",
    "kernel3x3=[[1,2,1],[2,4,2],[1,2,1]]\n",
    "kernel5x5=[[1,1,2,1,1],[1,2,4,2,1],[2,4,8,4,2],[1,2,4,2,1],[1,1,2,1,1]]\n",
    "kernel7x7=[[1,1,2,2,2,1,1],[1,2,2,4,2,2,1],[2,2,4,8,4,2,2],[2,4,8,16,8,4,2],[2,2,4,8,4,2,2],[1,2,2,4,2,2,1],[1,1,2,2,2,1,1]]"
   ]
  },
  {
   "cell_type": "code",
   "execution_count": null,
   "metadata": {},
   "outputs": [],
   "source": [
    "#Sum function to sum up the all elements in a kernel\n",
    "sums=[0,0,0]\n",
    "def Sum(size,kernel,desk):\n",
    "    for i in range(size):\n",
    "        for j in range(size):\n",
    "            sums[desk] += kernel[i][j]\n",
    "\n",
    "    print(sums)\n",
    "    \n",
    "Sum(3,kernel3x3,0)\n",
    "Sum(5,kernel5x5,1)\n",
    "Sum(7,kernel7x7,2)\n",
    "        \n",
    "        "
   ]
  },
  {
   "cell_type": "code",
   "execution_count": null,
   "metadata": {},
   "outputs": [],
   "source": [
    "#Do normalization on filters dividing by the sum of coefficient\n",
    "normal3x3=np.zeros((3,3),np.float32)\n",
    "normal5x5=np.zeros((5,5),np.float32)\n",
    "normal7x7=np.zeros((7,7),np.float32)\n",
    "def Normalize(kernel,size):\n",
    "    for i in range(size):\n",
    "        for j in range(size):\n",
    "            if size==3:\n",
    "                normal3x3[i][j]=kernel3x3[i][j]/sums[0]\n",
    "            elif size==5:\n",
    "                normal5x5[i][j]=kernel5x5[i][j]/sums[1]\n",
    "            elif size==7:\n",
    "                normal7x7[i][j]=kernel7x7[i][j]/sums[2]            \n",
    "Normalize(kernel3x3,3)\n",
    "Normalize(kernel5x5,5)\n",
    "Normalize(kernel7x7,7)"
   ]
  },
  {
   "cell_type": "code",
   "execution_count": null,
   "metadata": {},
   "outputs": [],
   "source": [
    "#read & pad images on the sample_images1 and put them in seperate lists\n",
    "img_list=[]\n",
    "padded_list3=[]\n",
    "padded_list5=[]\n",
    "padded_list7=[]\n",
    "for s in img_files:\n",
    "    img = cv2.imread(s,cv2.IMREAD_GRAYSCALE)\n",
    "    #pad_width=(kernel-1)/2\n",
    "    img3 = np.pad(img, pad_width=1, mode='constant', constant_values=0)\n",
    "    img5 = np.pad(img, pad_width=2, mode='constant', constant_values=0)\n",
    "    img7 = np.pad(img, pad_width=3, mode='constant', constant_values=0)\n",
    "    \n",
    "    img_list.append(img)\n",
    "    padded_list3.append(img3)\n",
    "    padded_list5.append(img5)\n",
    "    padded_list7.append(img7)"
   ]
  },
  {
   "cell_type": "code",
   "execution_count": 9,
   "metadata": {},
   "outputs": [],
   "source": [
    "#create new images \n",
    "new_imgs=[]\n",
    "npadded_list3=[]\n",
    "npadded_list5=[]\n",
    "npadded_list7=[]\n",
    "for i in range(len(img_list)):\n",
    "    row=img_list[i].shape[0]\n",
    "    col=img_list[i].shape[1]\n",
    "    new_imgs.append(np.zeros((row,col),np.uint8))\n",
    "    \n",
    "#Add pad to newly created images and put them in a list\n",
    "for s in range(len(img_list)):\n",
    "    nimg=new_imgs[s]\n",
    "    \n",
    "    nimg3 = np.pad(nimg, pad_width=1, mode='constant', constant_values=0)\n",
    "    nimg5 = np.pad(nimg, pad_width=2, mode='constant', constant_values=0)\n",
    "    nimg7 = np.pad(nimg, pad_width=3, mode='constant', constant_values=0)\n",
    "    \n",
    "\n",
    "    npadded_list3.append(nimg3)\n",
    "    npadded_list5.append(nimg5)\n",
    "    npadded_list7.append(nimg7)\n",
    "#list for median filter\n",
    "medlist3=[]\n",
    "medlist5=[]\n",
    "medlist7=[]"
   ]
  },
  {
   "cell_type": "code",
   "execution_count": 10,
   "metadata": {},
   "outputs": [],
   "source": [
    "#Implement each normlized filter to images from sample_images1\n",
    "def OperationFunc(kernel_size,img_num,flagNormal):\n",
    "    imagerow=new_imgs[img_num].shape[0] \n",
    "    imagecol=new_imgs[img_num].shape[1]\n",
    "    #Apply filters by iterating through images\n",
    "    for s in range(imagerow):\n",
    "        for d in range(imagecol):\n",
    "            sum=0\n",
    "            for i in range(kernel_size):\n",
    "                for j in range(kernel_size):\n",
    "\n",
    "                   \n",
    "                    if flagNormal==True: #Apply filter\n",
    "                        if kernel_size==3:\n",
    "                            ker_indx=normal3x3[i][j]#find kernel index  \n",
    "                            nimg=padded_list3[img_num]#find image to apply\n",
    "                            img_indx=nimg[s+i][d+j]#find image index\n",
    "                            mult=ker_indx*img_indx#multiply kernel index and image index\n",
    "                            #\n",
    "                            sum=sum+mult #the value that we're going to write in the middle\n",
    "                            img=npadded_list3[img_num]\n",
    "                            img[s+int((kernel_size-1)/2)][d+int((kernel_size-1)/2)]=sum\n",
    "                            npadded_list3[img_num]=img #write the calculated value to the right place in the image\n",
    "            #Do the same thing for every kernel size\n",
    "                        elif kernel_size==5:\n",
    "                            ker_indx=normal5x5[i][j]\n",
    "                            nimg=padded_list5[img_num]\n",
    "                            img_indx=nimg[s+i][d+j]\n",
    "                            mult=ker_indx*img_indx\n",
    "                            \n",
    "                            sum=sum+mult\n",
    "                            img=npadded_list5[img_num]\n",
    "                            img[s+int((kernel_size-1)/2)][d+int((kernel_size-1)/2)]=sum\n",
    "                            npadded_list5[img_num]=img\n",
    "                            \n",
    "                        elif kernel_size==7:\n",
    "                            ker_indx=normal7x7[i][j]\n",
    "                            nimg=padded_list7[img_num]\n",
    "                            img_indx=nimg[s+i][d+j]\n",
    "                            mult=ker_indx*img_indx\n",
    "                            \n",
    "                            sum=sum+mult\n",
    "                            img=npadded_list7[img_num]\n",
    "                            img[s+int((kernel_size-1)/2)][d+int((kernel_size-1)/2)]=sum\n",
    "                            npadded_list7[img_num]=img    "
   ]
  },
  {
   "cell_type": "code",
   "execution_count": null,
   "metadata": {},
   "outputs": [],
   "source": [
    "#filter3x3 Normalization\n",
    "normal3=[]\n",
    "for i in range(len(img_list)):\n",
    "   \n",
    "    OperationFunc(3,i,True)#\n",
    "    normal3.append(npadded_list3[i])\n",
    "    cv2.imshow(\"3x3Normal Original-Normal\",np.hstack((padded_list3[i],normal3[i])))\n",
    "    cv2.waitKey(0)\n",
    "    cv2.destroyAllWindows()"
   ]
  },
  {
   "cell_type": "code",
   "execution_count": null,
   "metadata": {},
   "outputs": [],
   "source": [
    "#filter5x5 Normalization\n",
    "normal5=[]\n",
    "for i in range(len(img_list)):\n",
    "   \n",
    "    OperationFunc(5,i,True)#\n",
    "    normal5.append(npadded_list5[i])\n",
    "    cv2.imshow(\"5x5Normal Original-Normal\",np.hstack((padded_list5[i],normal5[i])))\n",
    "    cv2.waitKey(0)\n",
    "    cv2.destroyAllWindows()"
   ]
  },
  {
   "cell_type": "code",
   "execution_count": null,
   "metadata": {},
   "outputs": [],
   "source": [
    "#filter7x7 Normalization\n",
    "normal7=[]\n",
    "for i in range(len(img_list)):\n",
    "   \n",
    "    OperationFunc(7,i,True)\n",
    "    normal7.append(npadded_list7[i])\n",
    "    cv2.imshow(\"7x7Normal Original-Normal\",np.hstack((padded_list7[i],normal7[i])))\n",
    "    cv2.waitKey(0)\n",
    "    cv2.destroyAllWindows()"
   ]
  },
  {
   "cell_type": "code",
   "execution_count": null,
   "metadata": {},
   "outputs": [],
   "source": [
    "#sharp3x3 -Use gausian filters as sharpening filter\n",
    "alfas=[1,20,100] # alfa values\n",
    "sharp3alf0=[]\n",
    "sharp3alf1=[]\n",
    "sharp3alf2=[]\n",
    "for i in range(len(img_list)):\n",
    "    # F + alfa(F-F*H) -> F=image F*H=blurred image\n",
    "    sharp3alf0.append(padded_list3[i]+(alfas[0]*(padded_list3[i]-normal3[i])))\n",
    "    sharp3alf1.append(padded_list3[i]+(alfas[1]*(padded_list3[i]-normal3[i])))\n",
    "    sharp3alf2.append(padded_list3[i]+(alfas[2]*(padded_list3[i]-normal3[i])))         \n",
    "    cv2.imshow(\"Original3x3-sharp1-sharp2-sharp3\",np.hstack((padded_list3[i],sharp3alf0[i],sharp3alf1[i],sharp3alf2[i])))\n",
    "    cv2.waitKey(0)\n",
    "    cv2.destroyAllWindows()\n",
    "\n"
   ]
  },
  {
   "cell_type": "code",
   "execution_count": null,
   "metadata": {},
   "outputs": [],
   "source": [
    "#sharp5x5 -Use gausian filters as sharpening filter\n",
    "alfas=[1,20,100] # alfa values\n",
    "sharp5alf0=[]\n",
    "sharp5alf1=[]\n",
    "sharp5alf2=[]\n",
    "for i in range(len(img_list)):\n",
    "    # F + alfa(F-F*H) -> F=image F*H=blurred image\n",
    "    sharp5alf0.append(padded_list5[i]+(alfas[0]*(padded_list5[i]-normal5[i])))\n",
    "    sharp5alf1.append(padded_list5[i]+(alfas[1]*(padded_list5[i]-normal5[i])))\n",
    "    sharp5alf2.append(padded_list5[i]+(alfas[2]*(padded_list5[i]-normal5[i])))         \n",
    "    cv2.imshow(\"Original5x5-sharp1-sharp2-sharp3\",np.hstack((padded_list5[i],sharp5alf0[i],sharp5alf1[i],sharp5alf2[i])))\n",
    "    cv2.waitKey(0)\n",
    "    cv2.destroyAllWindows()"
   ]
  },
  {
   "cell_type": "code",
   "execution_count": null,
   "metadata": {},
   "outputs": [],
   "source": [
    "#sharp7x7 -Use gausian filters as sharpening filter\n",
    "alfas=[1,20,100] # alfa values\n",
    "sharp7alf0=[]\n",
    "sharp7alf1=[]\n",
    "sharp7alf2=[]\n",
    "for i in range(len(img_list)):\n",
    "    # F + alfa(F-F*H) -> F=image F*H=blurred image\n",
    "    sharp7alf0.append(padded_list7[i]+(alfas[0]*(padded_list7[i]-normal7[i])))\n",
    "    sharp7alf1.append(padded_list7[i]+(alfas[1]*(padded_list7[i]-normal7[i])))\n",
    "    sharp7alf2.append(padded_list7[i]+(alfas[2]*(padded_list7[i]-normal7[i])))         \n",
    "    cv2.imshow(\"Original7x7-sharp1-sharp2-sharp3\",np.hstack((padded_list7[i],sharp7alf0[i],sharp7alf1[i],sharp7alf2[i])))\n",
    "    cv2.waitKey(0)\n",
    "    cv2.destroyAllWindows()"
   ]
  },
  {
   "cell_type": "code",
   "execution_count": null,
   "metadata": {},
   "outputs": [],
   "source": [
    "img_dir = \"sample_images2\" # Enter Directory of all images from sample_images2\n",
    "data_path = os.path.join(img_dir,'*')\n",
    "img_files2 = glob.glob(data_path)\n",
    "img_files2"
   ]
  },
  {
   "cell_type": "code",
   "execution_count": null,
   "metadata": {},
   "outputs": [],
   "source": [
    "#read & pad images on the sample_images2 and put them in seperate lists\n",
    "img_list2=[]\n",
    "padded_list3s=[]\n",
    "padded_list5s=[]\n",
    "padded_list7s=[]\n",
    "for s in img_files2:\n",
    "    imgs = cv2.imread(s,cv2.IMREAD_GRAYSCALE)\n",
    "    #pad_width=(kernel-1)/2\n",
    "    img3s = np.pad(imgs, pad_width=1, mode='constant', constant_values=0)\n",
    "    img5s = np.pad(imgs, pad_width=2, mode='constant', constant_values=0)\n",
    "    img7s = np.pad(imgs, pad_width=3, mode='constant', constant_values=0)\n",
    "    \n",
    "    img_list2.append(imgs)\n",
    "    padded_list3s.append(img3s)\n",
    "    padded_list5s.append(img5s)\n",
    "    padded_list7s.append(img7s)"
   ]
  },
  {
   "cell_type": "code",
   "execution_count": null,
   "metadata": {},
   "outputs": [],
   "source": [
    "#create new images \n",
    "new_imgs2=[]\n",
    "npadded_list3s=[]\n",
    "npadded_list5s=[]\n",
    "npadded_list7s=[]\n",
    "for i in range(len(img_list2)):\n",
    "    row=img_list2[i].shape[0]\n",
    "    col=img_list2[i].shape[1]\n",
    "    new_imgs2.append(np.zeros((row,col),np.uint8))\n",
    "    \n",
    "#Add pad to newly created images and put them in a list\n",
    "for s in range(len(img_list2)):\n",
    "    nimgs=new_imgs2[s]\n",
    "    \n",
    "    nimg3s = np.pad(nimgs, pad_width=1, mode='constant', constant_values=0)\n",
    "    nimg5s = np.pad(nimgs, pad_width=2, mode='constant', constant_values=0)\n",
    "    nimg7s = np.pad(nimgs, pad_width=3, mode='constant', constant_values=0)\n",
    "    \n",
    "\n",
    "    npadded_list3s.append(nimg3s)\n",
    "    npadded_list5s.append(nimg5s)\n",
    "    npadded_list7s.append(nimg7s)\n",
    "#lists for median filter\n",
    "medlist3=[]\n",
    "medlist5=[]\n",
    "medlist7=[]"
   ]
  },
  {
   "cell_type": "code",
   "execution_count": null,
   "metadata": {},
   "outputs": [],
   "source": [
    "#Function to remove salt and pepper noise by using 3x3,5x5 and 7x7 median filters\n",
    "def SaltPepper(kernel_size,img_num,flagMedian):\n",
    "    imagerow=new_imgs2[img_num].shape[0] \n",
    "    imagecol=new_imgs2[img_num].shape[1]\n",
    "    #Apply filters by iterating through images\n",
    "    for s in range(imagerow):\n",
    "        for d in range(imagecol):\n",
    "            sum=0\n",
    "            for i in range(kernel_size):\n",
    "                for j in range(kernel_size):\n",
    "                    if flagMedian==True: #apply median filter\n",
    "                        \n",
    "                        if kernel_size==3:\n",
    "                            nimgs=padded_list3s[img_num]\n",
    "                            medlist3.append(nimgs[s+i][d+j]) #append the images to medlist3\n",
    "            \n",
    "                            \n",
    "                        if kernel_size==5:   \n",
    "                            nimgs=padded_list5s[img_num]\n",
    "                            medlist5.append(nimgs[s+i][d+j]) \n",
    "            \n",
    "\n",
    "                        if kernel_size==7:   \n",
    "                            nimgs=padded_list7s[img_num]\n",
    "                            medlist7.append(nimgs[s+i][d+j]) \n",
    "            if kernel_size==3:\n",
    "                a=statistics.median(medlist3)#find median \n",
    "                medlist3.clear() #clear the list\n",
    "                imgs=npadded_list3s[img_num] \n",
    "                imgs[s+int((kernel_size-1)/2)][d+int((kernel_size-1)/2)]=a \n",
    "                npadded_list3s[img_num]=imgs #put the filtered image to npadded_list3s\n",
    "            if kernel_size==5:\n",
    "                a=statistics.median(medlist5)#find median \n",
    "                medlist5.clear() \n",
    "                imgs=npadded_list5s[img_num] \n",
    "                imgs[s+int((kernel_size-1)/2)][d+int((kernel_size-1)/2)]=a\n",
    "                npadded_list5s[img_num]=imgs\n",
    "            if kernel_size==7:\n",
    "                a=statistics.median(medlist7)#find median \n",
    "                medlist7.clear()\n",
    "                imgs=npadded_list7s[img_num]\n",
    "                imgs[s+int((kernel_size-1)/2)][d+int((kernel_size-1)/2)]=a\n",
    "                npadded_list7s[img_num]=imgs"
   ]
  },
  {
   "cell_type": "code",
   "execution_count": null,
   "metadata": {},
   "outputs": [],
   "source": [
    "#3x3 Remove salt and pepper noise by using median filter \n",
    "for i in range(len(img_list2)):\n",
    "    SaltPepper(3,i,True)\n",
    "    cv2.imshow(\"SaltAndPepper3x3 Original-Filtred\",np.hstack((padded_list3s[i],npadded_list3s[i])))\n",
    "    cv2.waitKey(0)\n",
    "    cv2.destroyAllWindows()"
   ]
  },
  {
   "cell_type": "code",
   "execution_count": null,
   "metadata": {},
   "outputs": [],
   "source": [
    "#5x5 Remove salt and pepper noise by using median filter \n",
    "for i in range(len(img_list2)):\n",
    "    SaltPepper(5,i,True)\n",
    "    cv2.imshow(\"SaltAndPepper5x5 Original-Filtred\",np.hstack((padded_list5s[i],npadded_list5s[i])))\n",
    "    cv2.waitKey(0)\n",
    "    cv2.destroyAllWindows()"
   ]
  },
  {
   "cell_type": "code",
   "execution_count": null,
   "metadata": {},
   "outputs": [],
   "source": [
    "#7x7 Remove salt and pepper noise by using median filter \n",
    "for i in range(len(img_list2)):\n",
    "    SaltPepper(7,i,True)\n",
    "    cv2.imshow(\"SaltAndPepper Original7x7-Filtred\",np.hstack((padded_list7s[i],npadded_list7s[i])))\n",
    "    cv2.waitKey(0)\n",
    "    cv2.destroyAllWindows()"
   ]
  }
 ],
 "metadata": {
  "kernelspec": {
   "display_name": "Python 3",
   "language": "python",
   "name": "python3"
  },
  "language_info": {
   "codemirror_mode": {
    "name": "ipython",
    "version": 3
   },
   "file_extension": ".py",
   "mimetype": "text/x-python",
   "name": "python",
   "nbconvert_exporter": "python",
   "pygments_lexer": "ipython3",
   "version": "3.7.1"
  }
 },
 "nbformat": 4,
 "nbformat_minor": 2
}
