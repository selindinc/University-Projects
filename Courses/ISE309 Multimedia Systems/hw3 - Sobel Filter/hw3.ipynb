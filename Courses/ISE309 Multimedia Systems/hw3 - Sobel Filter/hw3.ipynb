{
 "cells": [
  {
   "cell_type": "code",
   "execution_count": 3,
   "metadata": {},
   "outputs": [],
   "source": [
    "import cv2\n",
    "import numpy as np\n",
    "import matplotlib.pyplot as plt\n",
    "import glob\n",
    "import os\n",
    "import statistics\n",
    "import time\n",
    "from math import exp\n",
    "import math \n",
    "import itertools \n",
    "import sklearn.metrics as metrics"
   ]
  },
  {
   "cell_type": "code",
   "execution_count": null,
   "metadata": {},
   "outputs": [],
   "source": [
    "img_dir = \"sample_images1\" # Enter Directory of all images from sample_images1\n",
    "data_path = os.path.join(img_dir,'*')\n",
    "img_files = glob.glob(data_path)\n",
    "img_files"
   ]
  },
  {
   "cell_type": "code",
   "execution_count": null,
   "metadata": {},
   "outputs": [],
   "source": [
    "#read images on the sample_images1 and put them in seperate lists\n",
    "img_list=[]\n",
    "\n",
    "for s in img_files:\n",
    "    img = cv2.imread(s,cv2.IMREAD_GRAYSCALE)\n",
    "    img_list.append(img)\n"
   ]
  },
  {
   "cell_type": "code",
   "execution_count": null,
   "metadata": {},
   "outputs": [],
   "source": [
    "#creating kernels\n",
    "kernelX=np.array([[0,0,0],[1,-1,0],[0,0,0]],dtype=np.float64)\n",
    "kernelY=np.array([[0,0,0],[0,-1,0],[0,1,0]],dtype=np.float64)\n",
    "sobelX = np.array([[-1, 0 ,1], [-2 ,0 ,2], [-1, 0, 1]], dtype=np.float64)/8\n",
    "sobelY = np.array([[-1, -2 ,-1], [0 ,0 ,0], [1, 2, 1]], dtype=np.float64)/8"
   ]
  },
  {
   "cell_type": "code",
   "execution_count": null,
   "metadata": {},
   "outputs": [],
   "source": [
    "#function for flipping filters\n",
    "def Flip(kernel):\n",
    "\n",
    "    flip_kernel = np.zeros(kernel.shape,dtype = np.int32)\n",
    "\n",
    "    for i in range(kernel.shape[0],0,-1):\n",
    "        for j in range(kernel.shape[1],0,-1):\n",
    "            flip_kernel[i-1][j-1] = kernel[kernel.shape[0]-i][kernel.shape[1]-j]\n",
    "\n",
    "    return flip_kernel"
   ]
  },
  {
   "cell_type": "code",
   "execution_count": null,
   "metadata": {},
   "outputs": [],
   "source": [
    "#function that apply convolution to images\n",
    "def Convolution(image, kernel):\n",
    "    img_h, img_w = image.shape\n",
    "    filter_size = kernel.shape[0]\n",
    "\n",
    "    padding = int((kernel.shape[0]-1)/2)\n",
    "    padding_add = int(padding*2)\n",
    "    input_image_with_padding = np.zeros([image.shape[0]+padding_add, image.shape[1]+padding_add])\n",
    "    input_image_with_padding[padding:img_h+padding, padding:img_w+padding] = image[:,:]\n",
    "\n",
    "    #flip_filter = Flip(kernel)\n",
    "    flip_filter = cv2.flip(kernel, -1)\n",
    "    \n",
    "    \n",
    "    output_img = np.zeros(image.shape, dtype=image.dtype)\n",
    "\n",
    "    for i in range(img_h):\n",
    "        for j in range(img_w):\n",
    "            temp = input_image_with_padding[i:i+filter_size, j:j+filter_size]\n",
    "            output_img[i,j] = np.uint8(np.sum(np.double(temp)*np.double(flip_filter)))\n",
    "\n",
    "    return output_img"
   ]
  },
  {
   "cell_type": "code",
   "execution_count": null,
   "metadata": {},
   "outputs": [],
   "source": [
    "#x axis derivatives of images\n",
    "derX=[]\n",
    "for i in img_list:\n",
    "    \n",
    "    img = Convolution(i,kernelX)\n",
    "    derX.append(img)\n",
    "    cv2.imshow(\"derivativeX\",np.uint8(img))\n",
    "    cv2.waitKey(0)\n",
    "    cv2.destroyAllWindows()"
   ]
  },
  {
   "cell_type": "code",
   "execution_count": null,
   "metadata": {},
   "outputs": [],
   "source": [
    "#y axis derivatives of images\n",
    "derY=[]\n",
    "for i in img_list:\n",
    "    \n",
    "    img = Convolution(i,kernelY)\n",
    "    derY.append(img)\n",
    "    cv2.imshow(\"derivativeY\",np.uint8(img))\n",
    "    cv2.waitKey(0)\n",
    "    cv2.destroyAllWindows()"
   ]
  },
  {
   "cell_type": "code",
   "execution_count": null,
   "metadata": {},
   "outputs": [],
   "source": [
    "# function to calculate the square of a matrix\n",
    "def MatrixMult(image):\n",
    "    MultKer = np.zeros(image.shape,dtype = np.float64)\n",
    "    \n",
    "    for s in range(image.shape[0]):\n",
    "        for d in range (image.shape[1]):\n",
    "            for k in range (image.shape[1]):\n",
    "                MultKer[s][d]+=int(image[s][k])*int(image[k][d])\n",
    "    return MultKer"
   ]
  },
  {
   "cell_type": "code",
   "execution_count": null,
   "metadata": {},
   "outputs": [],
   "source": [
    "#find gradient magnitude for question 1\n",
    "GradMagnitude=[]\n",
    "\n",
    "for i in range(len(derX)): \n",
    "    mag=derX[i]+derY[i]\n",
    "    mag2 = cv2.normalize(mag, 0, 255, norm_type=cv2.NORM_MINMAX, dtype=cv2.CV_8UC1)\n",
    "    GradMagnitude.append(mag2)\n",
    "    cv2.imshow(\"grad magnitude\",np.uint8(mag2))\n",
    "    cv2.waitKey(0)\n",
    "    cv2.destroyAllWindows()"
   ]
  },
  {
   "cell_type": "code",
   "execution_count": null,
   "metadata": {},
   "outputs": [],
   "source": [
    "#sobel x\n",
    "sobX=[]\n",
    "for i in img_list:\n",
    "    \n",
    "    img = Convolution(i,sobelX)\n",
    "    sobX.append(img)\n",
    "    cv2.imshow(\"sobelX\",np.uint8(img))\n",
    "    cv2.waitKey(0)\n",
    "    cv2.destroyAllWindows()"
   ]
  },
  {
   "cell_type": "code",
   "execution_count": null,
   "metadata": {},
   "outputs": [],
   "source": [
    "#sobel y\n",
    "sobY=[]\n",
    "for i in img_list:\n",
    "    \n",
    "    img = Convolution(i,sobelY)\n",
    "    sobY.append(img)\n",
    "    cv2.imshow(\"sobelY\",np.uint8(img))\n",
    "    cv2.waitKey(0)\n",
    "    cv2.destroyAllWindows()"
   ]
  },
  {
   "cell_type": "code",
   "execution_count": null,
   "metadata": {},
   "outputs": [],
   "source": [
    "#find gradient magnitude for sobel\n",
    "GradMagnitudeSob=[]\n",
    "\n",
    "for i in range(len(sobX)): \n",
    "    mag=sobX[i]+sobY[i]\n",
    "    mag2 = cv2.normalize(mag, 0, 255, norm_type=cv2.NORM_MINMAX, dtype=cv2.CV_8UC1)\n",
    "    GradMagnitudeSob.append(mag2)\n",
    "  \n",
    "    cv2.imshow(\"grad magnitude for sobel\",np.uint8(mag2))\n",
    "    #cv2.waitKey(0)\n",
    "    #cv2.destroyAllWindows()"
   ]
  },
  {
   "cell_type": "code",
   "execution_count": 2,
   "metadata": {},
   "outputs": [
    {
     "data": {
      "text/plain": [
       "['sample_images2/grayImage.jpg', 'sample_images2/ground_truth.png']"
      ]
     },
     "execution_count": 2,
     "metadata": {},
     "output_type": "execute_result"
    }
   ],
   "source": [
    "img_dir = \"sample_images2\" # Enter Directory of all images from sample_images1\n",
    "data_path = os.path.join(img_dir,'*')\n",
    "img_files2 = glob.glob(data_path)\n",
    "img_files2"
   ]
  },
  {
   "cell_type": "code",
   "execution_count": 4,
   "metadata": {},
   "outputs": [
    {
     "ename": "NameError",
     "evalue": "name 'img_files2' is not defined",
     "output_type": "error",
     "traceback": [
      "\u001b[0;31m---------------------------------------------------------------------------\u001b[0m",
      "\u001b[0;31mNameError\u001b[0m                                 Traceback (most recent call last)",
      "\u001b[0;32m<ipython-input-4-d57de1fdf007>\u001b[0m in \u001b[0;36m<module>\u001b[0;34m\u001b[0m\n\u001b[1;32m      2\u001b[0m \u001b[0mimg_list2\u001b[0m\u001b[0;34m=\u001b[0m\u001b[0;34m[\u001b[0m\u001b[0;34m]\u001b[0m\u001b[0;34m\u001b[0m\u001b[0;34m\u001b[0m\u001b[0m\n\u001b[1;32m      3\u001b[0m \u001b[0;34m\u001b[0m\u001b[0m\n\u001b[0;32m----> 4\u001b[0;31m \u001b[0;32mfor\u001b[0m \u001b[0ms\u001b[0m \u001b[0;32min\u001b[0m \u001b[0mimg_files2\u001b[0m\u001b[0;34m:\u001b[0m\u001b[0;34m\u001b[0m\u001b[0;34m\u001b[0m\u001b[0m\n\u001b[0m\u001b[1;32m      5\u001b[0m     \u001b[0mimg2\u001b[0m \u001b[0;34m=\u001b[0m \u001b[0mcv2\u001b[0m\u001b[0;34m.\u001b[0m\u001b[0mimread\u001b[0m\u001b[0;34m(\u001b[0m\u001b[0ms\u001b[0m\u001b[0;34m,\u001b[0m\u001b[0mcv2\u001b[0m\u001b[0;34m.\u001b[0m\u001b[0mIMREAD_GRAYSCALE\u001b[0m\u001b[0;34m)\u001b[0m\u001b[0;34m\u001b[0m\u001b[0;34m\u001b[0m\u001b[0m\n\u001b[1;32m      6\u001b[0m     \u001b[0mimg_list2\u001b[0m\u001b[0;34m.\u001b[0m\u001b[0mappend\u001b[0m\u001b[0;34m(\u001b[0m\u001b[0mimg2\u001b[0m\u001b[0;34m)\u001b[0m\u001b[0;34m\u001b[0m\u001b[0;34m\u001b[0m\u001b[0m\n",
      "\u001b[0;31mNameError\u001b[0m: name 'img_files2' is not defined"
     ]
    }
   ],
   "source": [
    "#read images\n",
    "img_list2=[]\n",
    "\n",
    "for s in img_files2:\n",
    "    img2 = cv2.imread(s,cv2.IMREAD_GRAYSCALE)\n",
    "    img_list2.append(img2)"
   ]
  },
  {
   "cell_type": "code",
   "execution_count": null,
   "metadata": {},
   "outputs": [],
   "source": [
    "# calculate histogram for the images\n",
    "data = np.zeros(256)\n",
    "for i in img_list2:\n",
    "    for r in range(img2.shape[0]):\n",
    "        for c in range (img2.shape[1]):\n",
    "            temp=i[r][c]\n",
    "            data[temp]+=1\n",
    "    plt.plot(data)  \n",
    "    plt.show()\n",
    "    for s in range(len(data)):\n",
    "        data[s]=0"
   ]
  },
  {
   "cell_type": "code",
   "execution_count": 5,
   "metadata": {},
   "outputs": [],
   "source": [
    "# threshold algorithm that inspired from Otsu\n",
    "def Threshold():\n",
    "    data = np.zeros(256)\n",
    "    for i in img_list2:\n",
    "        for r in range(img2.shape[0]):\n",
    "            for c in range (img2.shape[1]):\n",
    "                temp=i[r][c]\n",
    "                data[temp]+=1\n",
    "\n",
    "    weight1 = np.cumsum(data)\n",
    "    weight2 = np.cumsum(data[::-1])\n",
    "\n",
    "    mean_val1=np.cumsum(data*256)/weight1\n",
    "    mean_val2=((np.cumsum(data*256)[::-1])/weight2[::-1])[::-1]\n",
    "\n",
    "    variance_val=weight1*weight2*(mean_val1-mean_val2)**2\n",
    "\n",
    "    indx = np.argmax(variance_val)\n",
    "    \n",
    "    threshold=data[:-1][indx]\n",
    "    \n",
    "    return threshold"
   ]
  },
  {
   "cell_type": "code",
   "execution_count": 6,
   "metadata": {},
   "outputs": [],
   "source": [
    "#applying threshold to the image\n",
    "def Thresholding(img,val):\n",
    "    if val==-1:\n",
    "        th=Threshold()\n",
    "    else:\n",
    "        th=val\n",
    "    new_img = np.zeros(img.shape,dtype = np.uint8)\n",
    "    for i in range(img.shape[0]):\n",
    "        for j in range(img.shape[1]):\n",
    "            color_val=img[i][j]\n",
    "            \n",
    "            if color_val>th:\n",
    "                new_img[i][j]=255\n",
    "            else:\n",
    "                new_img[i][j]=0\n",
    "    return new_img\n",
    "    "
   ]
  },
  {
   "cell_type": "code",
   "execution_count": 7,
   "metadata": {},
   "outputs": [],
   "source": [
    "#show the thresholded image\n",
    "new_img=Thresholding(img_list2[0],-1)\n",
    "cv2.imshow(\"thresholded image\",np.uint8(new_img))\n",
    "cv2.waitKey(0)\n",
    "cv2.destroyAllWindows()"
   ]
  },
  {
   "cell_type": "code",
   "execution_count": 8,
   "metadata": {},
   "outputs": [],
   "source": [
    "#threshold ground truth with cv2 because my algorithm didnt work for this \n",
    "thresh_ground=[]\n",
    "img_ground=img_list2[1]\n",
    "retval, threshold = cv2.threshold(img_ground, 12, 255, cv2.THRESH_BINARY)\n",
    "thresh_ground.append(img_ground)\n",
    "cv2.imshow('original ground truth',img_ground)\n",
    "cv2.imshow('thresholded ground truth',threshold)\n",
    "cv2.waitKey(0)\n",
    "cv2.destroyAllWindows()"
   ]
  },
  {
   "cell_type": "code",
   "execution_count": 9,
   "metadata": {},
   "outputs": [
    {
     "name": "stdout",
     "output_type": "stream",
     "text": [
      "0\n",
      "8\n",
      "16\n",
      "24\n",
      "32\n",
      "40\n",
      "48\n",
      "56\n",
      "64\n",
      "72\n",
      "80\n",
      "88\n",
      "96\n",
      "104\n",
      "112\n",
      "120\n",
      "128\n",
      "136\n",
      "144\n",
      "152\n",
      "160\n",
      "168\n",
      "176\n",
      "184\n",
      "192\n",
      "200\n",
      "208\n",
      "216\n",
      "224\n",
      "232\n",
      "240\n",
      "248\n"
     ]
    }
   ],
   "source": [
    "#plot ROC curve for my thresholding algorithm\n",
    "#calculating tp,tn,fp,fn positive, negative, false positive rate and true positive rate for the ROC curve\n",
    "ground=thresh_ground[0]\n",
    "tpr=[]\n",
    "fpr=[]\n",
    "for s in range(0,256,8):\n",
    "    thresh=Thresholding(img_list2[0],s)\n",
    "    \n",
    "    pos=0\n",
    "    neg=0\n",
    "    fp=0\n",
    "    fn=0\n",
    "    tp=0\n",
    "    tn=0\n",
    "\n",
    "    for i in range(ground.shape[0]):\n",
    "        for j in range(ground.shape[1]):\n",
    "\n",
    "            if(ground[i][j]==thresh[i][j] and ground[i][j]==0):\n",
    "                tn+=1\n",
    "            elif(ground[i][j]==thresh[i][j] and ground[i][j]==255):\n",
    "                tp+=1\n",
    "            elif(ground[i][j]!=thresh[i][j] and thresh[i][j]==0):\n",
    "                fn+=1\n",
    "            elif(ground[i][j]!=thresh[i][j] and thresh[i][j]==255):\n",
    "                fp+=1\n",
    "    neg=fp+tn\n",
    "    pos=fn+tp\n",
    "\n",
    "    fp_rate=fp/neg\n",
    "    tp_rate=tp/pos\n",
    "\n",
    "\n",
    "    tpr.append(tp_rate)\n",
    "    fpr.append(fp_rate)"
   ]
  },
  {
   "cell_type": "code",
   "execution_count": 12,
   "metadata": {},
   "outputs": [
    {
     "name": "stdout",
     "output_type": "stream",
     "text": [
      "32\n",
      "1.0 1.0\n",
      "1.0 1.0\n",
      "0.9998796195979295 0.9999746790570481\n",
      "0.999337907788612 0.9998987162281924\n",
      "0.9962682075358131 0.9984807434228851\n",
      "0.9848320693391116 0.9768819790849012\n",
      "0.96563139520886 0.7945585293596333\n",
      "0.9388467557481642 0.3648621274656268\n",
      "0.9034549175394245 0.0835717722127972\n",
      "0.8703503069700252 0.01931987947231155\n",
      "0.846334416756952 0.006304914795026967\n",
      "0.8255687973997833 0.00226622439419644\n",
      "0.8054652702540026 0.0011014610184083256\n",
      "0.784037558685446 0.0005823816878940571\n",
      "0.7610449018899723 0.0003671536728027752\n",
      "0.7391958589141687 0.00024054895804319752\n",
      "0.711087035030697 0.00015192565771149317\n",
      "0.6746719634043578 0.00011394424328361989\n",
      "0.6377753701697364 7.596282885574659e-05\n",
      "0.5914891055736126 3.798141442787329e-05\n",
      "0.5179366799085109 2.532094295191553e-05\n",
      "0.4550981100276875 1.2660471475957765e-05\n",
      "0.4150114361381967 0.0\n",
      "0.38798603587335984 0.0\n",
      "0.3642109064644276 0.0\n",
      "0.34326471650415313 0.0\n",
      "0.3249067051883953 0.0\n",
      "0.3039003250270856 0.0\n",
      "0.27169856747321536 0.0\n",
      "0.227940291320573 0.0\n",
      "0.1533044420368364 0.0\n",
      "0.034067653785963645 0.0\n"
     ]
    },
    {
     "data": {
      "image/png": "[encoded data removed]",
      "text/plain": [
       "<Figure size 432x288 with 1 Axes>"
      ]
     },
     "metadata": {
      "needs_background": "light"
     },
     "output_type": "display_data"
    }
   ],
   "source": [
    "# plot the ROC curve\n",
    "\n",
    "plt.title('ROC Curve')\n",
    "plt.plot(fpr,tpr)\n",
    "plt.ylabel('True Positive Rate')\n",
    "plt.xlabel('False Positive Rate')\n",
    "plt.show()"
   ]
  },
  {
   "cell_type": "code",
   "execution_count": null,
   "metadata": {},
   "outputs": [],
   "source": []
  }
 ],
 "metadata": {
  "kernelspec": {
   "display_name": "Python 3",
   "language": "python",
   "name": "python3"
  },
  "language_info": {
   "codemirror_mode": {
    "name": "ipython",
    "version": 3
   },
   "file_extension": ".py",
   "mimetype": "text/x-python",
   "name": "python",
   "nbconvert_exporter": "python",
   "pygments_lexer": "ipython3",
   "version": "3.7.1"
  }
 },
 "nbformat": 4,
 "nbformat_minor": 2
}
